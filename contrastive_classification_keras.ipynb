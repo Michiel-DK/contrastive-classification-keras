{
  "nbformat": 4,
  "nbformat_minor": 0,
  "metadata": {
    "colab": {
      "name": "contrastive-classification-keras.ipynb",
      "provenance": [],
      "collapsed_sections": []
    },
    "kernelspec": {
      "name": "python3",
      "display_name": "Python 3"
    },
    "language_info": {
      "name": "python"
    }
  },
  "cells": [
    {
      "cell_type": "markdown",
      "metadata": {
        "id": "gSRJBo9-lwOX"
      },
      "source": [
        "# Contrastive Classification\n",
        "\n",
        "This jupyter notebook contains a training script for the https://github.com/beresandras/contrastive-classification-keras repository, and is intended to be used in a Google Colab environment."
      ]
    },
    {
      "cell_type": "code",
      "metadata": {
        "id": "1-Q2l8ZretUZ"
      },
      "source": [
        "!git clone https://github.com/beresandras/contrastive-classification-keras.git"
      ],
      "execution_count": null,
      "outputs": []
    },
    {
      "cell_type": "code",
      "metadata": {
        "id": "ZgNZ0y8zhaFo"
      },
      "source": [
        "import sys\n",
        "sys.path.insert(0,'/content/contrastive-classification-keras')"
      ],
      "execution_count": null,
      "outputs": []
    },
    {
      "cell_type": "code",
      "metadata": {
        "id": "mKsXIajqePwJ"
      },
      "source": [
        "import os\n",
        "import pickle\n",
        "import tensorflow as tf\n",
        "\n",
        "from tensorflow import keras\n",
        "from tensorflow.keras import layers\n",
        "from tensorflow.keras.layers.experimental import preprocessing\n",
        "\n",
        "from dataset import prepare_dataset\n",
        "from augmentations import RandomResizedCrop, RandomColorJitter\n",
        "from algorithms import BarlowTwins, SimCLR, MoCo"
      ],
      "execution_count": null,
      "outputs": []
    },
    {
      "cell_type": "code",
      "metadata": {
        "id": "rAXcug3LeU4P"
      },
      "source": [
        "# hyperparameters\n",
        "num_epochs = 30\n",
        "steps_per_epoch = 200\n",
        "width = 128\n",
        "redundancy_reduction_weight = 10.0\n",
        "temperature = 0.1\n",
        "momentum_coeff = 0.99\n",
        "\n",
        "# hyperparameters corresponding to each algorithm\n",
        "hyperparams = {\n",
        "    BarlowTwins: {\"redundancy_reduction_weight\": redundancy_reduction_weight},\n",
        "    SimCLR: {\"temperature\": temperature},\n",
        "    MoCo: {\n",
        "        \"temperature\": temperature,\n",
        "        \"momentum_coeff\": momentum_coeff,\n",
        "    },\n",
        "}"
      ],
      "execution_count": null,
      "outputs": []
    },
    {
      "cell_type": "code",
      "metadata": {
        "id": "xKX-vD2jeVLe"
      },
      "source": [
        "# load STL10 dataset\n",
        "batch_size, train_dataset, labeled_train_dataset, test_dataset = prepare_dataset(\n",
        "    steps_per_epoch\n",
        ")"
      ],
      "execution_count": null,
      "outputs": []
    },
    {
      "cell_type": "code",
      "metadata": {
        "id": "g3NnbOlWeVXN"
      },
      "source": [
        "# select an algorithm\n",
        "Algorithm = SimCLR  # BarlowTwins, SimCLR, MoCo\n",
        "\n",
        "# architecture\n",
        "model = Algorithm(\n",
        "    contrastive_augmenter=keras.Sequential(\n",
        "        [\n",
        "            layers.Input(shape=(96, 96, 3)),\n",
        "            preprocessing.Rescaling(1 / 255),\n",
        "            preprocessing.RandomFlip(\"horizontal\"),\n",
        "            RandomResizedCrop(scale=(0.2, 1.0), ratio=(3 / 4, 4 / 3)),\n",
        "            RandomColorJitter(brightness=0.5, contrast=0.5, saturation=0.5, hue=0.2),\n",
        "        ],\n",
        "        name=\"contrastive_augmenter\",\n",
        "    ),\n",
        "    classification_augmenter=keras.Sequential(\n",
        "        [\n",
        "            layers.Input(shape=(96, 96, 3)),\n",
        "            preprocessing.Rescaling(1 / 255),\n",
        "            preprocessing.RandomFlip(\"horizontal\"),\n",
        "            RandomResizedCrop(scale=(0.5, 1.0), ratio=(3 / 4, 4 / 3)),\n",
        "            RandomColorJitter(brightness=0.2, contrast=0.2, saturation=0.2, hue=0.1),\n",
        "        ],\n",
        "        name=\"classification_augmenter\",\n",
        "    ),\n",
        "    encoder=keras.Sequential(\n",
        "        [\n",
        "            layers.Input(shape=(96, 96, 3)),\n",
        "            layers.Conv2D(width, kernel_size=3, strides=2, activation=\"relu\"),\n",
        "            layers.Conv2D(width, kernel_size=3, strides=2, activation=\"relu\"),\n",
        "            layers.Conv2D(width, kernel_size=3, strides=2, activation=\"relu\"),\n",
        "            layers.Conv2D(width, kernel_size=3, strides=2, activation=\"relu\"),\n",
        "            layers.Flatten(),\n",
        "            layers.Dense(width, activation=\"relu\"),\n",
        "        ],\n",
        "        name=\"encoder\",\n",
        "    ),\n",
        "    projection_head=keras.Sequential(\n",
        "        [\n",
        "            layers.Input(shape=(width,)),\n",
        "            layers.Dense(width, activation=\"relu\"),\n",
        "            layers.Dense(width),\n",
        "        ],\n",
        "        name=\"projection_head\",\n",
        "    ),\n",
        "    linear_probe=keras.Sequential(\n",
        "        [\n",
        "            layers.Input(shape=(width,)),\n",
        "            layers.Dense(10),\n",
        "        ],\n",
        "        name=\"linear_probe\",\n",
        "    ),\n",
        "    **hyperparams[Algorithm],\n",
        ")"
      ],
      "execution_count": null,
      "outputs": []
    },
    {
      "cell_type": "code",
      "metadata": {
        "id": "kCBVd6DBeViQ"
      },
      "source": [
        "# optimizers\n",
        "model.compile(\n",
        "    contrastive_optimizer=keras.optimizers.Adam(),\n",
        "    probe_optimizer=keras.optimizers.Adam(),\n",
        ")\n",
        "\n",
        "# run training\n",
        "history = model.fit(train_dataset, epochs=num_epochs, validation_data=test_dataset)\n",
        "\n",
        "# save history\n",
        "with open(\"{}.pkl\".format(Algorithm.__name__), \"wb\") as write_file:\n",
        "    pickle.dump(history, write_file)"
      ],
      "execution_count": null,
      "outputs": []
    }
  ]
}