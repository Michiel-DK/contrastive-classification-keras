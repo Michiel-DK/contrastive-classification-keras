{
  "nbformat": 4,
  "nbformat_minor": 2,
  "metadata": {
    "colab": {
      "name": "contrastive-classification-keras.ipynb",
      "provenance": [],
      "collapsed_sections": []
    },
    "kernelspec": {
      "name": "python3",
      "display_name": "Python 3"
    },
    "language_info": {
      "name": "python"
    }
  },
  "cells": [
    {
      "cell_type": "markdown",
      "source": [
        "# Contrastive Classification\n",
        "\n",
        "This jupyter notebook contains a training script for the https://github.com/beresandras/contrastive-classification-keras repository, and is intended to be used in a Google Colab environment."
      ],
      "metadata": {
        "id": "gSRJBo9-lwOX"
      }
    },
    {
      "cell_type": "code",
      "execution_count": null,
      "source": [
        "# uncomment on first run\r\n",
        "#!git clone https://github.com/beresandras/contrastive-classification-keras.git"
      ],
      "outputs": [],
      "metadata": {
        "id": "1-Q2l8ZretUZ"
      }
    },
    {
      "cell_type": "code",
      "execution_count": null,
      "source": [
        "import sys\r\n",
        "import pickle\r\n",
        "\r\n",
        "from tensorflow import keras\r\n",
        "from tensorflow.keras import layers\r\n",
        "from tensorflow.keras.layers.experimental import preprocessing\r\n",
        "\r\n",
        "sys.path.insert(0,'/content/contrastive-classification-keras')\r\n",
        "from dataset import prepare_dataset\r\n",
        "from augmentations import RandomResizedCrop, RandomColorJitter\r\n",
        "from algorithms import SimCLR, NNCLR, BarlowTwins, MoCo, DINO"
      ],
      "outputs": [],
      "metadata": {
        "id": "mKsXIajqePwJ"
      }
    },
    {
      "cell_type": "code",
      "execution_count": null,
      "source": [
        "# hyperparameters\r\n",
        "num_epochs = 30\r\n",
        "steps_per_epoch = 200\r\n",
        "width = 128\r\n",
        "\r\n",
        "# hyperparameters corresponding to each algorithm\r\n",
        "hyperparams = {\r\n",
        "    SimCLR: {\"temperature\": 0.1},\r\n",
        "    NNCLR: {\"temperature\": 0.1, \"queue_size\": 10000},\r\n",
        "    BarlowTwins: {\"redundancy_reduction_weight\": 10.0},\r\n",
        "    MoCo: {\"momentum_coeff\": 0.99, \"temperature\": 0.1, \"queue_size\": 10000},\r\n",
        "    DINO: {\"momentum_coeff\": 0.9, \"temperature\": 0.1, \"sharpening\": 0.5},\r\n",
        "}"
      ],
      "outputs": [],
      "metadata": {
        "id": "rAXcug3LeU4P"
      }
    },
    {
      "cell_type": "code",
      "execution_count": null,
      "source": [
        "# load STL10 dataset\r\n",
        "batch_size, train_dataset, labeled_train_dataset, test_dataset = prepare_dataset(\r\n",
        "    steps_per_epoch\r\n",
        ")"
      ],
      "outputs": [],
      "metadata": {
        "id": "xKX-vD2jeVLe"
      }
    },
    {
      "cell_type": "code",
      "execution_count": null,
      "source": [
        "# select an algorithm\r\n",
        "Algorithm = SimCLR\r\n",
        "\r\n",
        "# architecture\r\n",
        "model = Algorithm(\r\n",
        "    contrastive_augmenter=keras.Sequential(\r\n",
        "        [\r\n",
        "            layers.Input(shape=(96, 96, 3)),\r\n",
        "            preprocessing.Rescaling(1 / 255),\r\n",
        "            preprocessing.RandomFlip(\"horizontal\"),\r\n",
        "            RandomResizedCrop(scale=(0.2, 1.0), ratio=(3 / 4, 4 / 3)),\r\n",
        "            RandomColorJitter(brightness=0.5, contrast=0.5, saturation=0.5, hue=0.2),\r\n",
        "        ],\r\n",
        "        name=\"contrastive_augmenter\",\r\n",
        "    ),\r\n",
        "    classification_augmenter=keras.Sequential(\r\n",
        "        [\r\n",
        "            layers.Input(shape=(96, 96, 3)),\r\n",
        "            preprocessing.Rescaling(1 / 255),\r\n",
        "            preprocessing.RandomFlip(\"horizontal\"),\r\n",
        "            RandomResizedCrop(scale=(0.5, 1.0), ratio=(3 / 4, 4 / 3)),\r\n",
        "            RandomColorJitter(brightness=0.2, contrast=0.2, saturation=0.2, hue=0.1),\r\n",
        "        ],\r\n",
        "        name=\"classification_augmenter\",\r\n",
        "    ),\r\n",
        "    encoder=keras.Sequential(\r\n",
        "        [\r\n",
        "            layers.Input(shape=(96, 96, 3)),\r\n",
        "            layers.Conv2D(width, kernel_size=3, strides=2, activation=\"relu\"),\r\n",
        "            layers.Conv2D(width, kernel_size=3, strides=2, activation=\"relu\"),\r\n",
        "            layers.Conv2D(width, kernel_size=3, strides=2, activation=\"relu\"),\r\n",
        "            layers.Conv2D(width, kernel_size=3, strides=2, activation=\"relu\"),\r\n",
        "            layers.Flatten(),\r\n",
        "            layers.Dense(width, activation=\"relu\"),\r\n",
        "        ],\r\n",
        "        name=\"encoder\",\r\n",
        "    ),\r\n",
        "    projection_head=keras.Sequential(\r\n",
        "        [\r\n",
        "            layers.Input(shape=(width,)),\r\n",
        "            layers.Dense(width, activation=\"relu\"),\r\n",
        "            layers.Dense(width),\r\n",
        "        ],\r\n",
        "        name=\"projection_head\",\r\n",
        "    ),\r\n",
        "    linear_probe=keras.Sequential(\r\n",
        "        [\r\n",
        "            layers.Input(shape=(width,)),\r\n",
        "            layers.Dense(10),\r\n",
        "        ],\r\n",
        "        name=\"linear_probe\",\r\n",
        "    ),\r\n",
        "    **hyperparams[Algorithm],\r\n",
        ")"
      ],
      "outputs": [],
      "metadata": {
        "id": "g3NnbOlWeVXN"
      }
    },
    {
      "cell_type": "code",
      "execution_count": null,
      "source": [
        "# optimizers\r\n",
        "model.compile(\r\n",
        "    contrastive_optimizer=keras.optimizers.Adam(),\r\n",
        "    probe_optimizer=keras.optimizers.Adam(),\r\n",
        ")\r\n",
        "\r\n",
        "# run training\r\n",
        "history = model.fit(train_dataset, epochs=num_epochs, validation_data=test_dataset)\r\n",
        "\r\n",
        "# save history\r\n",
        "with open(\"{}.pkl\".format(Algorithm.__name__), \"wb\") as write_file:\r\n",
        "    pickle.dump(history.history, write_file)"
      ],
      "outputs": [],
      "metadata": {
        "id": "kCBVd6DBeViQ"
      }
    }
  ]
}